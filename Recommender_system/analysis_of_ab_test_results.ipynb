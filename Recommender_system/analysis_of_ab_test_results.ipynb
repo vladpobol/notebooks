{
 "cells": [
  {
   "cell_type": "code",
   "execution_count": 5,
   "metadata": {
    "id": "zKha0A_3qn9i"
   },
   "outputs": [],
   "source": [
    "import pandas as pd\n",
    "import numpy as np\n",
    "import matplotlib.pyplot as plt\n",
    "import hashlib\n",
    "import os\n",
    "from scipy.stats import shapiro, ttest_ind, mannwhitneyu, t\n",
    "import warnings \n",
    "warnings.simplefilter('ignore')"
   ]
  },
  {
   "cell_type": "markdown",
   "metadata": {
    "id": "Jukp2Aw2Czvm"
   },
   "source": [
    "# Задача: понять значимо ли различаются интересеющие нас метрики у контрольной и тестовой модели рекомендаций\n",
    "\n",
    "## Метрики, которые нам интересны :\n",
    "* #### Hitrate\n",
    "* #### Число лайков на пользователя\n",
    "\n",
    "## Методы, которые будем использовать\n",
    "* #### __T-test__ - _для проверки гипотезы по хитрейту_\n",
    "* #### __Критерий Манна-Уитни-Уилкоксона__ - _для проверки гипотезы по второй метрике_\n",
    "\n",
    "### В обоих случаях пороговая вероятность ошибки первого рода = 0.05\n"
   ]
  },
  {
   "cell_type": "code",
   "execution_count": 6,
   "metadata": {
    "colab": {
     "base_uri": "https://localhost:8080/",
     "height": 206
    },
    "id": "qWsjKG7sq2OC",
    "outputId": "9271b01e-99c3-474b-deee-e5125c602f14"
   },
   "outputs": [
    {
     "data": {
      "text/html": [
       "<div>\n",
       "<style scoped>\n",
       "    .dataframe tbody tr th:only-of-type {\n",
       "        vertical-align: middle;\n",
       "    }\n",
       "\n",
       "    .dataframe tbody tr th {\n",
       "        vertical-align: top;\n",
       "    }\n",
       "\n",
       "    .dataframe thead th {\n",
       "        text-align: right;\n",
       "    }\n",
       "</style>\n",
       "<table border=\"1\" class=\"dataframe\">\n",
       "  <thead>\n",
       "    <tr style=\"text-align: right;\">\n",
       "      <th></th>\n",
       "      <th>user_id</th>\n",
       "      <th>post_id</th>\n",
       "      <th>like_timestamp</th>\n",
       "    </tr>\n",
       "  </thead>\n",
       "  <tbody>\n",
       "    <tr>\n",
       "      <th>0</th>\n",
       "      <td>128381</td>\n",
       "      <td>4704</td>\n",
       "      <td>1654030804</td>\n",
       "    </tr>\n",
       "    <tr>\n",
       "      <th>1</th>\n",
       "      <td>146885</td>\n",
       "      <td>1399</td>\n",
       "      <td>1654030816</td>\n",
       "    </tr>\n",
       "    <tr>\n",
       "      <th>2</th>\n",
       "      <td>50948</td>\n",
       "      <td>2315</td>\n",
       "      <td>1654030828</td>\n",
       "    </tr>\n",
       "    <tr>\n",
       "      <th>3</th>\n",
       "      <td>14661</td>\n",
       "      <td>673</td>\n",
       "      <td>1654030831</td>\n",
       "    </tr>\n",
       "    <tr>\n",
       "      <th>4</th>\n",
       "      <td>37703</td>\n",
       "      <td>1588</td>\n",
       "      <td>1654030833</td>\n",
       "    </tr>\n",
       "  </tbody>\n",
       "</table>\n",
       "</div>"
      ],
      "text/plain": [
       "   user_id  post_id  like_timestamp\n",
       "0   128381     4704      1654030804\n",
       "1   146885     1399      1654030816\n",
       "2    50948     2315      1654030828\n",
       "3    14661      673      1654030831\n",
       "4    37703     1588      1654030833"
      ]
     },
     "execution_count": 6,
     "metadata": {},
     "output_type": "execute_result"
    }
   ],
   "source": [
    "os.chdir('logs')\n",
    "likes_df = pd.read_csv('likes.csv')\n",
    "likes_df.rename(columns={'timestamp': 'like_timestamp'}, inplace=True)\n",
    "\n",
    "\n",
    "likes_df.head()"
   ]
  },
  {
   "cell_type": "code",
   "execution_count": 7,
   "metadata": {
    "colab": {
     "base_uri": "https://localhost:8080/",
     "height": 206
    },
    "id": "Wpy6SUUwq7Yt",
    "outputId": "4748cd65-f6de-4c8d-b953-0de33dfff423"
   },
   "outputs": [
    {
     "data": {
      "text/html": [
       "<div>\n",
       "<style scoped>\n",
       "    .dataframe tbody tr th:only-of-type {\n",
       "        vertical-align: middle;\n",
       "    }\n",
       "\n",
       "    .dataframe tbody tr th {\n",
       "        vertical-align: top;\n",
       "    }\n",
       "\n",
       "    .dataframe thead th {\n",
       "        text-align: right;\n",
       "    }\n",
       "</style>\n",
       "<table border=\"1\" class=\"dataframe\">\n",
       "  <thead>\n",
       "    <tr style=\"text-align: right;\">\n",
       "      <th></th>\n",
       "      <th>user_id</th>\n",
       "      <th>exp_group</th>\n",
       "      <th>recommendations</th>\n",
       "      <th>view_timestamp</th>\n",
       "    </tr>\n",
       "  </thead>\n",
       "  <tbody>\n",
       "    <tr>\n",
       "      <th>0</th>\n",
       "      <td>128381</td>\n",
       "      <td>control</td>\n",
       "      <td>[3644 4529 4704 5294 4808]</td>\n",
       "      <td>1654030803</td>\n",
       "    </tr>\n",
       "    <tr>\n",
       "      <th>1</th>\n",
       "      <td>146885</td>\n",
       "      <td>test</td>\n",
       "      <td>[1399 1076  797 7015 5942]</td>\n",
       "      <td>1654030811</td>\n",
       "    </tr>\n",
       "    <tr>\n",
       "      <th>2</th>\n",
       "      <td>50948</td>\n",
       "      <td>test</td>\n",
       "      <td>[2315 3037 1861 6567 4093]</td>\n",
       "      <td>1654030825</td>\n",
       "    </tr>\n",
       "    <tr>\n",
       "      <th>3</th>\n",
       "      <td>37703</td>\n",
       "      <td>test</td>\n",
       "      <td>[2842 1949  162 1588 6794]</td>\n",
       "      <td>1654030826</td>\n",
       "    </tr>\n",
       "    <tr>\n",
       "      <th>4</th>\n",
       "      <td>14661</td>\n",
       "      <td>test</td>\n",
       "      <td>[2395 5881 5648 3417  673]</td>\n",
       "      <td>1654030829</td>\n",
       "    </tr>\n",
       "  </tbody>\n",
       "</table>\n",
       "</div>"
      ],
      "text/plain": [
       "   user_id exp_group             recommendations  view_timestamp\n",
       "0   128381   control  [3644 4529 4704 5294 4808]      1654030803\n",
       "1   146885      test  [1399 1076  797 7015 5942]      1654030811\n",
       "2    50948      test  [2315 3037 1861 6567 4093]      1654030825\n",
       "3    37703      test  [2842 1949  162 1588 6794]      1654030826\n",
       "4    14661      test  [2395 5881 5648 3417  673]      1654030829"
      ]
     },
     "execution_count": 7,
     "metadata": {},
     "output_type": "execute_result"
    }
   ],
   "source": [
    "views_df = pd.read_csv('views.csv')\n",
    "views_df.rename(columns={'timestamp': 'view_timestamp'}, inplace=True)\n",
    "\n",
    "os.chdir('..')\n",
    "\n",
    "views_df.head()"
   ]
  },
  {
   "cell_type": "code",
   "execution_count": 4,
   "metadata": {
    "colab": {
     "base_uri": "https://localhost:8080/",
     "height": 206
    },
    "id": "QAfNRSycGU0w",
    "outputId": "1c3160a5-d8c5-4f0d-b9f1-451ff9a50191"
   },
   "outputs": [
    {
     "data": {
      "text/html": [
       "\n",
       "  <div id=\"df-13156808-3cdd-4515-9f87-dfcda7a31cfc\">\n",
       "    <div class=\"colab-df-container\">\n",
       "      <div>\n",
       "<style scoped>\n",
       "    .dataframe tbody tr th:only-of-type {\n",
       "        vertical-align: middle;\n",
       "    }\n",
       "\n",
       "    .dataframe tbody tr th {\n",
       "        vertical-align: top;\n",
       "    }\n",
       "\n",
       "    .dataframe thead th {\n",
       "        text-align: right;\n",
       "    }\n",
       "</style>\n",
       "<table border=\"1\" class=\"dataframe\">\n",
       "  <thead>\n",
       "    <tr style=\"text-align: right;\">\n",
       "      <th></th>\n",
       "      <th>user_id</th>\n",
       "      <th>exp_group</th>\n",
       "      <th>recommendations</th>\n",
       "      <th>view_timestamp</th>\n",
       "      <th>post_id</th>\n",
       "      <th>like_timestamp</th>\n",
       "    </tr>\n",
       "  </thead>\n",
       "  <tbody>\n",
       "    <tr>\n",
       "      <th>0</th>\n",
       "      <td>128381</td>\n",
       "      <td>control</td>\n",
       "      <td>[3644, 4529, 4704, 5294, 4808]</td>\n",
       "      <td>1654030803</td>\n",
       "      <td>4704</td>\n",
       "      <td>1.654031e+09</td>\n",
       "    </tr>\n",
       "    <tr>\n",
       "      <th>1</th>\n",
       "      <td>128381</td>\n",
       "      <td>control</td>\n",
       "      <td>[3644, 4529, 4704, 5294, 4808]</td>\n",
       "      <td>1654030803</td>\n",
       "      <td>5294</td>\n",
       "      <td>1.654031e+09</td>\n",
       "    </tr>\n",
       "    <tr>\n",
       "      <th>2</th>\n",
       "      <td>128381</td>\n",
       "      <td>control</td>\n",
       "      <td>[3644, 4529, 4704, 5294, 4808]</td>\n",
       "      <td>1654030803</td>\n",
       "      <td>3608</td>\n",
       "      <td>1.655049e+09</td>\n",
       "    </tr>\n",
       "    <tr>\n",
       "      <th>3</th>\n",
       "      <td>128381</td>\n",
       "      <td>control</td>\n",
       "      <td>[3644, 4529, 4704, 5294, 4808]</td>\n",
       "      <td>1654030803</td>\n",
       "      <td>2542</td>\n",
       "      <td>1.655049e+09</td>\n",
       "    </tr>\n",
       "    <tr>\n",
       "      <th>4</th>\n",
       "      <td>128381</td>\n",
       "      <td>control</td>\n",
       "      <td>[3644, 4529, 4704, 5294, 4808]</td>\n",
       "      <td>1654030803</td>\n",
       "      <td>4165</td>\n",
       "      <td>1.655053e+09</td>\n",
       "    </tr>\n",
       "  </tbody>\n",
       "</table>\n",
       "</div>\n",
       "      <button class=\"colab-df-convert\" onclick=\"convertToInteractive('df-13156808-3cdd-4515-9f87-dfcda7a31cfc')\"\n",
       "              title=\"Convert this dataframe to an interactive table.\"\n",
       "              style=\"display:none;\">\n",
       "        \n",
       "  <svg xmlns=\"http://www.w3.org/2000/svg\" height=\"24px\"viewBox=\"0 0 24 24\"\n",
       "       width=\"24px\">\n",
       "    <path d=\"M0 0h24v24H0V0z\" fill=\"none\"/>\n",
       "    <path d=\"M18.56 5.44l.94 2.06.94-2.06 2.06-.94-2.06-.94-.94-2.06-.94 2.06-2.06.94zm-11 1L8.5 8.5l.94-2.06 2.06-.94-2.06-.94L8.5 2.5l-.94 2.06-2.06.94zm10 10l.94 2.06.94-2.06 2.06-.94-2.06-.94-.94-2.06-.94 2.06-2.06.94z\"/><path d=\"M17.41 7.96l-1.37-1.37c-.4-.4-.92-.59-1.43-.59-.52 0-1.04.2-1.43.59L10.3 9.45l-7.72 7.72c-.78.78-.78 2.05 0 2.83L4 21.41c.39.39.9.59 1.41.59.51 0 1.02-.2 1.41-.59l7.78-7.78 2.81-2.81c.8-.78.8-2.07 0-2.86zM5.41 20L4 18.59l7.72-7.72 1.47 1.35L5.41 20z\"/>\n",
       "  </svg>\n",
       "      </button>\n",
       "      \n",
       "  <style>\n",
       "    .colab-df-container {\n",
       "      display:flex;\n",
       "      flex-wrap:wrap;\n",
       "      gap: 12px;\n",
       "    }\n",
       "\n",
       "    .colab-df-convert {\n",
       "      background-color: #E8F0FE;\n",
       "      border: none;\n",
       "      border-radius: 50%;\n",
       "      cursor: pointer;\n",
       "      display: none;\n",
       "      fill: #1967D2;\n",
       "      height: 32px;\n",
       "      padding: 0 0 0 0;\n",
       "      width: 32px;\n",
       "    }\n",
       "\n",
       "    .colab-df-convert:hover {\n",
       "      background-color: #E2EBFA;\n",
       "      box-shadow: 0px 1px 2px rgba(60, 64, 67, 0.3), 0px 1px 3px 1px rgba(60, 64, 67, 0.15);\n",
       "      fill: #174EA6;\n",
       "    }\n",
       "\n",
       "    [theme=dark] .colab-df-convert {\n",
       "      background-color: #3B4455;\n",
       "      fill: #D2E3FC;\n",
       "    }\n",
       "\n",
       "    [theme=dark] .colab-df-convert:hover {\n",
       "      background-color: #434B5C;\n",
       "      box-shadow: 0px 1px 3px 1px rgba(0, 0, 0, 0.15);\n",
       "      filter: drop-shadow(0px 1px 2px rgba(0, 0, 0, 0.3));\n",
       "      fill: #FFFFFF;\n",
       "    }\n",
       "  </style>\n",
       "\n",
       "      <script>\n",
       "        const buttonEl =\n",
       "          document.querySelector('#df-13156808-3cdd-4515-9f87-dfcda7a31cfc button.colab-df-convert');\n",
       "        buttonEl.style.display =\n",
       "          google.colab.kernel.accessAllowed ? 'block' : 'none';\n",
       "\n",
       "        async function convertToInteractive(key) {\n",
       "          const element = document.querySelector('#df-13156808-3cdd-4515-9f87-dfcda7a31cfc');\n",
       "          const dataTable =\n",
       "            await google.colab.kernel.invokeFunction('convertToInteractive',\n",
       "                                                     [key], {});\n",
       "          if (!dataTable) return;\n",
       "\n",
       "          const docLinkHtml = 'Like what you see? Visit the ' +\n",
       "            '<a target=\"_blank\" href=https://colab.research.google.com/notebooks/data_table.ipynb>data table notebook</a>'\n",
       "            + ' to learn more about interactive tables.';\n",
       "          element.innerHTML = '';\n",
       "          dataTable['output_type'] = 'display_data';\n",
       "          await google.colab.output.renderOutput(dataTable, element);\n",
       "          const docLink = document.createElement('div');\n",
       "          docLink.innerHTML = docLinkHtml;\n",
       "          element.appendChild(docLink);\n",
       "        }\n",
       "      </script>\n",
       "    </div>\n",
       "  </div>\n",
       "  "
      ],
      "text/plain": [
       "   user_id exp_group                 recommendations  view_timestamp  post_id  \\\n",
       "0   128381   control  [3644, 4529, 4704, 5294, 4808]      1654030803     4704   \n",
       "1   128381   control  [3644, 4529, 4704, 5294, 4808]      1654030803     5294   \n",
       "2   128381   control  [3644, 4529, 4704, 5294, 4808]      1654030803     3608   \n",
       "3   128381   control  [3644, 4529, 4704, 5294, 4808]      1654030803     2542   \n",
       "4   128381   control  [3644, 4529, 4704, 5294, 4808]      1654030803     4165   \n",
       "\n",
       "   like_timestamp  \n",
       "0    1.654031e+09  \n",
       "1    1.654031e+09  \n",
       "2    1.655049e+09  \n",
       "3    1.655049e+09  \n",
       "4    1.655053e+09  "
      ]
     },
     "execution_count": 4,
     "metadata": {},
     "output_type": "execute_result"
    }
   ],
   "source": [
    "# нужно правильно подтянуть лайки к показам, изначально нет информации какой показ к какому лайну относится \n",
    "merge_df = views_df.merge(likes_df, on='user_id', how='outer')\n",
    "merge_df['post_id'] = merge_df['post_id'].fillna(-1).astype(int)\n",
    "\n",
    "# рекомендованные посты выгружаются в формате строки, преобразуем их в список\n",
    "def to_list(rec_string):\n",
    "    rec_string = rec_string.replace('[', '').replace(']', '')\n",
    "    split_rec_str = rec_string.split()\n",
    "    \n",
    "    return [int(post_id) for post_id in split_rec_str]\n",
    "\n",
    "merge_df['recommendations'] = merge_df['recommendations'].apply(to_list)\n",
    "\n",
    "merge_df.head()"
   ]
  },
  {
   "cell_type": "markdown",
   "metadata": {
    "id": "NtNNZKFSGcbi"
   },
   "source": [
    "### Считаем Hitrate"
   ]
  },
  {
   "cell_type": "code",
   "execution_count": 5,
   "metadata": {
    "id": "m9D1ItLaQMrf"
   },
   "outputs": [],
   "source": [
    "hitrate_list = []\n",
    "\n",
    "one_hour = 60 * 60\n",
    "\n",
    "'''\n",
    "Пояснение:\n",
    "Будем считать, что хитрейт принимет значение 1, если в течении часа \n",
    "пользователь лайкнул хотя-бы один пост,\n",
    "который был в числе рекомендованных\n",
    "'''\n",
    "\n",
    "# по всем юзерам\n",
    "for usr_id in merge_df.user_id.unique():\n",
    "    \n",
    "    user_actions = merge_df[merge_df['user_id'] == usr_id]\n",
    "\n",
    "    # пробегаемся по всем рекомендациям для этого юзера\n",
    "    for rec_time in user_actions.view_timestamp.unique():\n",
    "        # список рекомендованных постов\n",
    "        recomended_posts = user_actions.loc[user_actions['view_timestamp'] == rec_time]['recommendations'].head(1).values[0]\n",
    "        # разница между времененм лайка и временем рекомендации\n",
    "        diff_time = user_actions.like_timestamp - rec_time\n",
    "        \n",
    "        # создаем условия\n",
    "        time_diff_less_one_hour = (diff_time >= 0) & (diff_time <= one_hour)\n",
    "        is_post_recomended = user_actions.post_id.isin(recomended_posts)\n",
    "\n",
    "        # считаем сколько строк удовлетворяет условиям\n",
    "        result = user_actions[time_diff_less_one_hour & is_post_recomended].shape[0]\n",
    "        \n",
    "        hitrate_list.append([usr_id, rec_time, int(result > 0)])\n"
   ]
  },
  {
   "cell_type": "code",
   "execution_count": 6,
   "metadata": {
    "colab": {
     "base_uri": "https://localhost:8080/",
     "height": 206
    },
    "id": "sPYv7a201PAe",
    "outputId": "ca3ea59e-ec40-43b2-9d87-8cd7b2a8bf69"
   },
   "outputs": [
    {
     "data": {
      "text/html": [
       "\n",
       "  <div id=\"df-06650fce-cb58-4d54-ac8c-addd489933d8\">\n",
       "    <div class=\"colab-df-container\">\n",
       "      <div>\n",
       "<style scoped>\n",
       "    .dataframe tbody tr th:only-of-type {\n",
       "        vertical-align: middle;\n",
       "    }\n",
       "\n",
       "    .dataframe tbody tr th {\n",
       "        vertical-align: top;\n",
       "    }\n",
       "\n",
       "    .dataframe thead th {\n",
       "        text-align: right;\n",
       "    }\n",
       "</style>\n",
       "<table border=\"1\" class=\"dataframe\">\n",
       "  <thead>\n",
       "    <tr style=\"text-align: right;\">\n",
       "      <th></th>\n",
       "      <th>user_id</th>\n",
       "      <th>exp_group</th>\n",
       "      <th>recommendations</th>\n",
       "      <th>view_timestamp</th>\n",
       "      <th>hitrate</th>\n",
       "    </tr>\n",
       "  </thead>\n",
       "  <tbody>\n",
       "    <tr>\n",
       "      <th>0</th>\n",
       "      <td>128381</td>\n",
       "      <td>control</td>\n",
       "      <td>[3644 4529 4704 5294 4808]</td>\n",
       "      <td>1654030803</td>\n",
       "      <td>1</td>\n",
       "    </tr>\n",
       "    <tr>\n",
       "      <th>1</th>\n",
       "      <td>146885</td>\n",
       "      <td>test</td>\n",
       "      <td>[1399 1076  797 7015 5942]</td>\n",
       "      <td>1654030811</td>\n",
       "      <td>1</td>\n",
       "    </tr>\n",
       "    <tr>\n",
       "      <th>2</th>\n",
       "      <td>50948</td>\n",
       "      <td>test</td>\n",
       "      <td>[2315 3037 1861 6567 4093]</td>\n",
       "      <td>1654030825</td>\n",
       "      <td>1</td>\n",
       "    </tr>\n",
       "    <tr>\n",
       "      <th>3</th>\n",
       "      <td>37703</td>\n",
       "      <td>test</td>\n",
       "      <td>[2842 1949  162 1588 6794]</td>\n",
       "      <td>1654030826</td>\n",
       "      <td>1</td>\n",
       "    </tr>\n",
       "    <tr>\n",
       "      <th>4</th>\n",
       "      <td>14661</td>\n",
       "      <td>test</td>\n",
       "      <td>[2395 5881 5648 3417  673]</td>\n",
       "      <td>1654030829</td>\n",
       "      <td>1</td>\n",
       "    </tr>\n",
       "  </tbody>\n",
       "</table>\n",
       "</div>\n",
       "      <button class=\"colab-df-convert\" onclick=\"convertToInteractive('df-06650fce-cb58-4d54-ac8c-addd489933d8')\"\n",
       "              title=\"Convert this dataframe to an interactive table.\"\n",
       "              style=\"display:none;\">\n",
       "        \n",
       "  <svg xmlns=\"http://www.w3.org/2000/svg\" height=\"24px\"viewBox=\"0 0 24 24\"\n",
       "       width=\"24px\">\n",
       "    <path d=\"M0 0h24v24H0V0z\" fill=\"none\"/>\n",
       "    <path d=\"M18.56 5.44l.94 2.06.94-2.06 2.06-.94-2.06-.94-.94-2.06-.94 2.06-2.06.94zm-11 1L8.5 8.5l.94-2.06 2.06-.94-2.06-.94L8.5 2.5l-.94 2.06-2.06.94zm10 10l.94 2.06.94-2.06 2.06-.94-2.06-.94-.94-2.06-.94 2.06-2.06.94z\"/><path d=\"M17.41 7.96l-1.37-1.37c-.4-.4-.92-.59-1.43-.59-.52 0-1.04.2-1.43.59L10.3 9.45l-7.72 7.72c-.78.78-.78 2.05 0 2.83L4 21.41c.39.39.9.59 1.41.59.51 0 1.02-.2 1.41-.59l7.78-7.78 2.81-2.81c.8-.78.8-2.07 0-2.86zM5.41 20L4 18.59l7.72-7.72 1.47 1.35L5.41 20z\"/>\n",
       "  </svg>\n",
       "      </button>\n",
       "      \n",
       "  <style>\n",
       "    .colab-df-container {\n",
       "      display:flex;\n",
       "      flex-wrap:wrap;\n",
       "      gap: 12px;\n",
       "    }\n",
       "\n",
       "    .colab-df-convert {\n",
       "      background-color: #E8F0FE;\n",
       "      border: none;\n",
       "      border-radius: 50%;\n",
       "      cursor: pointer;\n",
       "      display: none;\n",
       "      fill: #1967D2;\n",
       "      height: 32px;\n",
       "      padding: 0 0 0 0;\n",
       "      width: 32px;\n",
       "    }\n",
       "\n",
       "    .colab-df-convert:hover {\n",
       "      background-color: #E2EBFA;\n",
       "      box-shadow: 0px 1px 2px rgba(60, 64, 67, 0.3), 0px 1px 3px 1px rgba(60, 64, 67, 0.15);\n",
       "      fill: #174EA6;\n",
       "    }\n",
       "\n",
       "    [theme=dark] .colab-df-convert {\n",
       "      background-color: #3B4455;\n",
       "      fill: #D2E3FC;\n",
       "    }\n",
       "\n",
       "    [theme=dark] .colab-df-convert:hover {\n",
       "      background-color: #434B5C;\n",
       "      box-shadow: 0px 1px 3px 1px rgba(0, 0, 0, 0.15);\n",
       "      filter: drop-shadow(0px 1px 2px rgba(0, 0, 0, 0.3));\n",
       "      fill: #FFFFFF;\n",
       "    }\n",
       "  </style>\n",
       "\n",
       "      <script>\n",
       "        const buttonEl =\n",
       "          document.querySelector('#df-06650fce-cb58-4d54-ac8c-addd489933d8 button.colab-df-convert');\n",
       "        buttonEl.style.display =\n",
       "          google.colab.kernel.accessAllowed ? 'block' : 'none';\n",
       "\n",
       "        async function convertToInteractive(key) {\n",
       "          const element = document.querySelector('#df-06650fce-cb58-4d54-ac8c-addd489933d8');\n",
       "          const dataTable =\n",
       "            await google.colab.kernel.invokeFunction('convertToInteractive',\n",
       "                                                     [key], {});\n",
       "          if (!dataTable) return;\n",
       "\n",
       "          const docLinkHtml = 'Like what you see? Visit the ' +\n",
       "            '<a target=\"_blank\" href=https://colab.research.google.com/notebooks/data_table.ipynb>data table notebook</a>'\n",
       "            + ' to learn more about interactive tables.';\n",
       "          element.innerHTML = '';\n",
       "          dataTable['output_type'] = 'display_data';\n",
       "          await google.colab.output.renderOutput(dataTable, element);\n",
       "          const docLink = document.createElement('div');\n",
       "          docLink.innerHTML = docLinkHtml;\n",
       "          element.appendChild(docLink);\n",
       "        }\n",
       "      </script>\n",
       "    </div>\n",
       "  </div>\n",
       "  "
      ],
      "text/plain": [
       "   user_id exp_group             recommendations  view_timestamp  hitrate\n",
       "0   128381   control  [3644 4529 4704 5294 4808]      1654030803        1\n",
       "1   146885      test  [1399 1076  797 7015 5942]      1654030811        1\n",
       "2    50948      test  [2315 3037 1861 6567 4093]      1654030825        1\n",
       "3    37703      test  [2842 1949  162 1588 6794]      1654030826        1\n",
       "4    14661      test  [2395 5881 5648 3417  673]      1654030829        1"
      ]
     },
     "execution_count": 6,
     "metadata": {},
     "output_type": "execute_result"
    }
   ],
   "source": [
    "hitrate_df = pd.DataFrame(data=hitrate_list,\n",
    "                          columns=['user_id', 'view_timestamp', 'hitrate'])\n",
    "\n",
    "views_df = views_df.merge(hitrate_df, on=['user_id', 'view_timestamp'], how='inner')\n",
    "\n",
    "views_df.head()"
   ]
  },
  {
   "cell_type": "markdown",
   "metadata": {
    "id": "9B0Ufkwp8wvp"
   },
   "source": [
    "### Посчитаем метрики используя бакетирование"
   ]
  },
  {
   "cell_type": "code",
   "execution_count": 7,
   "metadata": {
    "id": "-p4ugC1L7JdV"
   },
   "outputs": [],
   "source": [
    "views_df['user_id'].values\n",
    "\n",
    "def md5_bucket_partition(user_id):\n",
    "    # переводим строку в байты\n",
    "    encoded_id = str(user_id).encode()\n",
    "    # применяем хэш-функцию\n",
    "    hashed_id = hashlib.md5(encoded_id)\n",
    "    # приводим к целочисленоному типу и уменьшаем порядок % 100\n",
    "    return int(hashed_id.hexdigest(), 16) % 100\n",
    "\n",
    "views_df['bucket'] = views_df['user_id'].apply(md5_bucket_partition)\n",
    "\n",
    "control_sample = views_df[views_df['exp_group'] == 'control']\n",
    "test_sample = views_df[views_df['exp_group'] == 'test']"
   ]
  },
  {
   "cell_type": "code",
   "execution_count": 8,
   "metadata": {
    "colab": {
     "base_uri": "https://localhost:8080/"
    },
    "id": "WfjwDTl19D8s",
    "outputId": "f87bca1e-80c9-47b6-d293-3c8ce22b3688"
   },
   "outputs": [
    {
     "name": "stdout",
     "output_type": "stream",
     "text": [
      "Вероятность получить такое распределение средних, если в гс они распределены нормально :\n",
      "В контрольной выборке - 0.5621\n",
      "В тестовой выборке : 0.6237\n"
     ]
    }
   ],
   "source": [
    "control_hitrate = control_sample.groupby('bucket').mean()['hitrate'].values\n",
    "test_hitrate = test_sample.groupby('bucket').mean()['hitrate'].values\n",
    "\n",
    "\n",
    "print(f'Вероятность получить такое распределение средних, если в гс они распределены нормально :\\nВ контрольной выборке - {round(shapiro(control_hitrate)[1],4)}\\nВ тестовой выборке : {round(shapiro(test_hitrate)[1],4)}')\n"
   ]
  },
  {
   "cell_type": "markdown",
   "metadata": {
    "id": "E_CcewgGlwq0"
   },
   "source": [
    "### Распределение метрики близко к нормальному, поэтому без опасений применяем  T-test и получим вероятность того, что среднее значение Hitrate в котрольной выборке меньше чем в тестовой"
   ]
  },
  {
   "cell_type": "code",
   "execution_count": 9,
   "metadata": {
    "colab": {
     "base_uri": "https://localhost:8080/"
    },
    "id": "UX2Wl0EAkfEB",
    "outputId": "bb4a86fd-6a35-431b-94c6-5fab1711667b"
   },
   "outputs": [
    {
     "name": "stdout",
     "output_type": "stream",
     "text": [
      "statistic: -6.00619\n",
      "p-value: 0.0\n"
     ]
    }
   ],
   "source": [
    "ttest_results = np.array(ttest_ind(control_hitrate, test_hitrate, alternative='less')).round(5)\n",
    "\n",
    "print(f'statistic: {ttest_results[0]}')\n",
    "print(f'p-value: {ttest_results[1]}')"
   ]
  },
  {
   "cell_type": "markdown",
   "metadata": {
    "id": "ou66lqxto544"
   },
   "source": [
    "### Теперь поосчитаем среднее"
   ]
  },
  {
   "cell_type": "code",
   "execution_count": 10,
   "metadata": {
    "colab": {
     "base_uri": "https://localhost:8080/"
    },
    "id": "qoLz2CokoFhV",
    "outputId": "7a881d23-2869-4f6e-8d20-69c32dfebcd2"
   },
   "outputs": [
    {
     "name": "stdout",
     "output_type": "stream",
     "text": [
      "Тест Шапиро: \n",
      "Контрольная 0.8759692311286926\n",
      "Тестовая 0.020063752308487892\n"
     ]
    }
   ],
   "source": [
    "merge_df['bucket'] = merge_df['user_id'].apply(md5_bucket_partition)\n",
    "\n",
    "\n",
    "control_sample = merge_df[merge_df['exp_group'] == 'control'].groupby('bucket').count()['view_timestamp'].values\n",
    "test_sample = merge_df[merge_df['exp_group'] == 'test'].groupby('bucket').count()['view_timestamp'].values\n",
    "\n",
    "\n",
    "print(f'Тест Шапиро: \\nКонтрольная {shapiro(control_sample)[1]}\\nТестовая {shapiro(test_sample)[1]}')\n"
   ]
  },
  {
   "cell_type": "markdown",
   "metadata": {
    "id": "CDZQU35sHPUK"
   },
   "source": [
    "### Распределение метрики в тестовой выборке не нормально, в такой ситуации уместнее применить Критерий Манна-Уитни-Уилкоксона"
   ]
  },
  {
   "cell_type": "code",
   "execution_count": 11,
   "metadata": {
    "colab": {
     "base_uri": "https://localhost:8080/"
    },
    "id": "KdQ7vdxN6w4o",
    "outputId": "6a94752e-a3dc-44ab-cee3-a0b341acdf46"
   },
   "outputs": [
    {
     "name": "stdout",
     "output_type": "stream",
     "text": [
      "statistic: 4092.5\n",
      "p-value: 0.01334\n"
     ]
    }
   ],
   "source": [
    "mannwhitneyu_results = np.array(mannwhitneyu(control_sample, test_sample, alternative='less')).round(5)\n",
    "\n",
    "\n",
    "print(f'statistic: {mannwhitneyu_results[0]}')\n",
    "print(f'p-value: {mannwhitneyu_results[1]}')"
   ]
  },
  {
   "cell_type": "markdown",
   "metadata": {
    "id": "YooK6hTZIx59"
   },
   "source": [
    "## Выводы:\n",
    "* ### Hitrate в тестовой и контрольной выборке стат значимо различается, в тесте метрика подросла\n",
    "* ### Среднее количество лайков в выборках тоже значимо различаются, в тесте метрика подросла"
   ]
  }
 ],
 "metadata": {
  "colab": {
   "provenance": []
  },
  "kernelspec": {
   "display_name": "Python 3 (ipykernel)",
   "language": "python",
   "name": "python3"
  },
  "language_info": {
   "codemirror_mode": {
    "name": "ipython",
    "version": 3
   },
   "file_extension": ".py",
   "mimetype": "text/x-python",
   "name": "python",
   "nbconvert_exporter": "python",
   "pygments_lexer": "ipython3",
   "version": "3.10.10"
  }
 },
 "nbformat": 4,
 "nbformat_minor": 1
}
